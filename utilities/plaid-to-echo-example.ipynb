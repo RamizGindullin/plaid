{
 "cells": [
  {
   "cell_type": "markdown",
   "metadata": {},
   "source": [
    "# PLAID Layout to ECHO\n",
    "\n",
    "We assume that your source plates file has at least the following headers (columns): \n",
    "\n",
    "plateID, type, well, Compound, CONCuM"
   ]
  },
  {
   "cell_type": "code",
   "execution_count": 1,
   "metadata": {},
   "outputs": [],
   "source": [
    "import file_conversion as fc"
   ]
  },
  {
   "cell_type": "code",
   "execution_count": 2,
   "metadata": {},
   "outputs": [
    {
     "name": "stdout",
     "output_type": "stream",
     "text": [
      "All done! :-)\n"
     ]
    }
   ],
   "source": [
    "# The name of your PLAID csv file\n",
    "plaid_filename = 'plaid_example.csv'\n",
    "\n",
    "# The name of your source plates csv file\n",
    "source_plate_filename = 'source_plate_example.csv'\n",
    "\n",
    "# The name for your output ECHO csv file\n",
    "echo_filename = 'my_echo_example.csv'\n",
    "\n",
    "# Full volume of you the wells or your PLAID (destination) plates.\n",
    "backfill = 150\n",
    "\n",
    "fc.plaid_to_echo_(plaid_filename,source_plate_filename,backfill,echo_filename)"
   ]
  },
  {
   "cell_type": "markdown",
   "metadata": {},
   "source": [
    "# Advanced Use\n",
    "\n",
    "If you want to fill up the wells with something other than DMSO, you can specify it using the parameter 'backfill_compound'\n",
    "\n",
    "The name of the compound column of the source file can be specified using 'cmpdname_src_column'\n",
    "\n",
    "The example below produces the same output as the example above."
   ]
  },
  {
   "cell_type": "code",
   "execution_count": 3,
   "metadata": {},
   "outputs": [
    {
     "name": "stdout",
     "output_type": "stream",
     "text": [
      "All done! :-)\n"
     ]
    }
   ],
   "source": [
    "echo_filename_2 = 'my_second_echo_example.csv'\n",
    "\n",
    "fc.plaid_to_echo_(plaid_filename,source_plate_filename,backfill,echo_filename_2,cmpdname_src_column='Compound',backfill_compound='DMSO')\n"
   ]
  }
 ],
 "metadata": {
  "kernelspec": {
   "display_name": "Python 3",
   "language": "python",
   "name": "python3"
  },
  "language_info": {
   "codemirror_mode": {
    "name": "ipython",
    "version": 3
   },
   "file_extension": ".py",
   "mimetype": "text/x-python",
   "name": "python",
   "nbconvert_exporter": "python",
   "pygments_lexer": "ipython3",
   "version": "3.8.5"
  }
 },
 "nbformat": 4,
 "nbformat_minor": 4
}
