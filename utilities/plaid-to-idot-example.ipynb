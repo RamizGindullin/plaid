{
 "cells": [
  {
   "cell_type": "markdown",
   "metadata": {},
   "source": [
    "# PLAID Layout to iDOT\n",
    "\n",
    "We assume that your source plates file has at least the following headers (columns): \n",
    "\n",
    "plateID, type, well, Compound, CONCuM"
   ]
  },
  {
   "cell_type": "code",
   "execution_count": 1,
   "metadata": {},
   "outputs": [],
   "source": [
    "import file_conversion as fc"
   ]
  },
  {
   "cell_type": "code",
   "execution_count": 2,
   "metadata": {},
   "outputs": [],
   "source": [
    "# The name of your PLAID csv file\n",
    "plaid_filename = 'plaid_example.csv'\n",
    "\n",
    "# The name of your source plates csv file\n",
    "source_plate_filename = 'source_plate_example.csv'\n",
    "\n",
    "# The name for your output iDOT csv file\n",
    "idot_filename = 'my_idot_example.csv'\n",
    "\n",
    "# Full volume of you the wells or your PLAID (destination) plates.\n",
    "backfill = 150\n",
    "\n",
    "\n",
    "fc.plaid_to_idot(plaid_filename,source_plate_filename,backfill,idot_filename)"
   ]
  },
  {
   "cell_type": "markdown",
   "metadata": {},
   "source": [
    "# Advanced Use\n",
    "\n",
    "If you want to fill up the wells with something other than DMSO, you can specify it using the parameter 'backfill_compound'\n",
    "\n",
    "The name of the compound column of the source file can be specified using 'cmpdname_src_column'\n",
    "\n",
    "Below there is a list of all the optional variables with their default value."
   ]
  },
  {
   "cell_type": "code",
   "execution_count": 3,
   "metadata": {},
   "outputs": [],
   "source": [
    "idot_filename = \"my_advanced_idot_example.csv\"\n",
    "\n",
    "cmpdname_src_column='Compound'\n",
    "backfill_compound='DMSO'\n",
    "\n",
    "#Line 1\n",
    "protocol_name = \"My_First_Experiment\"\n",
    "software = \"1.7.2021.1019\" ## \n",
    "user_name = \"pharmb_io\"\n",
    "\n",
    "#Line 2\n",
    "sourceplate_type = \"S.100 Plate\" ## Other options are \"S.60 Plate\" and \"S.200 Plate\"\n",
    "sourceplate_name = \"source_name\"\n",
    "something = 8e-5 \n",
    "target_plate_type = \"MWP 384\" ## Other options are \"MWP 96\" and \"MWP 1536\" \n",
    "targetplate_name = \"target_name\"\n",
    "excess_liquid_option = \"Waste Tube\"\n",
    "\n",
    "#Line 3\n",
    "DispenseToWaste = True\n",
    "DispenseToWasteCycles = 3\n",
    "DispenseToWasteVolume = 1e-7\n",
    "UseDeionisation = True\n",
    "OptimizationLevel = \"ReorderAndParallel\"\n",
    "WasteErrorHandlingLevel = \"Ask\"\n",
    "SaveLiquids = \"Ask\"\n",
    "\n",
    "fc.plaid_to_idot(plaid_filename,source_plate_filename,backfill,idot_filename,cmpdname_src_column=cmpdname_src_column, backfill_compound=backfill_compound, protocol_name=protocol_name, software=software, user_name=user_name, sourceplate_type=sourceplate_type, sourceplate_name=sourceplate_name, something=something, target_plate_type=target_plate_type, targetplate_name=targetplate_name, excess_liquid_option=excess_liquid_option, DispenseToWaste=DispenseToWaste, DispenseToWasteCycles=DispenseToWasteCycles, DispenseToWasteVolume=DispenseToWasteVolume, UseDeionisation=UseDeionisation, OptimizationLevel=OptimizationLevel, WasteErrorHandlingLevel=WasteErrorHandlingLevel, SaveLiquids=SaveLiquids)\n"
   ]
  }
 ],
 "metadata": {
  "kernelspec": {
   "display_name": "Python 3",
   "language": "python",
   "name": "python3"
  },
  "language_info": {
   "codemirror_mode": {
    "name": "ipython",
    "version": 3
   },
   "file_extension": ".py",
   "mimetype": "text/x-python",
   "name": "python",
   "nbconvert_exporter": "python",
   "pygments_lexer": "ipython3",
   "version": "3.8.5"
  }
 },
 "nbformat": 4,
 "nbformat_minor": 4
}
