{
 "cells": [
  {
   "cell_type": "markdown",
   "metadata": {},
   "source": [
    "# PLAID Layout to iDOT\n",
    "\n",
    "We assume that your source plates file has at least the following headers (columns): \n",
    "\n",
    "plateID, type, well, Compound, CONCuM"
   ]
  },
  {
   "cell_type": "code",
   "execution_count": 1,
   "metadata": {},
   "outputs": [],
   "source": [
    "import file_conversion as fc"
   ]
  },
  {
   "cell_type": "code",
   "execution_count": 3,
   "metadata": {},
   "outputs": [],
   "source": [
    "# The name of your PLAID csv file\n",
    "plaid_filename = 'plaid_example.csv'\n",
    "\n",
    "# The name of your source plates csv file\n",
    "source_plate_filename = 'source_plate_example.csv'\n",
    "\n",
    "# The name for your output iDOT csv file\n",
    "idot_filename = 'my_idot_example.csv'\n",
    "\n",
    "# Well volume in µL in the PLAID (destination) plates\n",
    "well_volume = 40\n",
    "\n",
    "# Maximum % of dmso permitted in a well\n",
    "dmso_max_perc = 0.1\n",
    "\n",
    "fc.plaid_to_idot(plaid_filename,source_plate_filename, well_volume, dmso_max_perc, idot_filename)"
   ]
  },
  {
   "cell_type": "markdown",
   "metadata": {},
   "source": [
    "# Advanced Use\n",
    "\n",
    "If you want to fill up the wells with something other than DMSO, you can specify it using the parameter 'backfill_compound'\n",
    "\n",
    "The name of the compound column of the source file can be specified using 'cmpdname_src_column'\n",
    "\n",
    "Below there is a list of all the variables need for the iDOT format with their default value."
   ]
  },
  {
   "cell_type": "code",
   "execution_count": 3,
   "metadata": {},
   "outputs": [],
   "source": [
    "idot_filename = 'my_advanced_idot_example.csv'\n",
    "\n",
    "cmpdname_src_column='Compound'\n",
    "backfill_compound='DMSO'\n",
    "\n",
    "## iDOT header information\n",
    "#Line 1\n",
    "protocol_name = \"My_First_Experiment\" # Name of the protocol\n",
    "software = \"1.7.2021.1019\" # I-DOT Assay Studio software version\n",
    "user_name = \"pharmb_io\" # User name/ID\n",
    "\n",
    "#Line 2\n",
    "sourceplate_type = \"S.100 Plate\" # Other options are \"S.60 Plate\" and \"S.200 Plate\"\n",
    "sourceplate_name = \"source_name\" # Name of source plate\n",
    "max_volume = 8.0E-5 # Source plate max volume (80000nL = 80uL= 8.0E-5 L)\n",
    "target_plate_type = \"MWP 384\" # Other options are \"MWP 96\" and \"MWP 1536\" \n",
    "targetplate_name = \"target_name\"\n",
    "waste_well = \"Waste Tube\" # Position of the waste well on the target carrier\n",
    "\n",
    "#Line 3\n",
    "dispense_to_waste = True # Enable/disable priming before dispensing (=True/False) \n",
    "dispense_to_waste_cycles = 3 # Number of priming cycles for each source well (=1/2/3)\n",
    "dispense_to_waste_volume = 1e-7 # Dispensing volume for each priming cycle (=5e-8/.../1e-6) \n",
    "use_deionisation = True\n",
    "optimization_level = \"ReorderAndParallel\" # Used protocol optimization process to reduce total dispensing time. Possible values are NoOptimization / Reorder / ReorderAndParalell\n",
    "waste_error_handling_level = \"Ask\" # Checkpoint for the dispensing run if no droplets are detected during priming. Possible values are Ask / Abort / Continue \n",
    "save_liquids = \"Ask\" # Checkpoint for Liquid Library handling. Possible options are Ask / Never\n",
    "\n",
    "fc.plaid_to_idot(plaid_filename,source_plate_filename, well_volume, dmso_max_perc,idot_filename,cmpdname_src_column=cmpdname_src_column, backfill_compound=backfill_compound, protocol_name=protocol_name, software=software, user_name=user_name, sourceplate_type=sourceplate_type, sourceplate_name=sourceplate_name, max_volume=max_volume, target_plate_type=target_plate_type, targetplate_name=targetplate_name, waste_well=waste_well, dispense_to_waste=dispense_to_waste, dispense_to_waste_cycles=dispense_to_waste_cycles, dispense_to_waste_volume=dispense_to_waste_volume, use_deionisation=use_deionisation, optimization_level=optimization_level, waste_error_handling_level=waste_error_handling_level, save_liquids=save_liquids)\n"
   ]
  },
  {
   "cell_type": "markdown",
   "metadata": {},
   "source": [
    "## Acknowledgments\n",
    "\n",
    "We would like to thank Polina Georgiev, Malin Jarvius, and Jonne Rietdijk for their input and feedback."
   ]
  }
 ],
 "metadata": {
  "kernelspec": {
   "display_name": "Python 3",
   "language": "python",
   "name": "python3"
  },
  "language_info": {
   "codemirror_mode": {
    "name": "ipython",
    "version": 3
   },
   "file_extension": ".py",
   "mimetype": "text/x-python",
   "name": "python",
   "nbconvert_exporter": "python",
   "pygments_lexer": "ipython3",
   "version": "3.8.10"
  },
  "vscode": {
   "interpreter": {
    "hash": "916dbcbb3f70747c44a77c7bcd40155683ae19c65e1c03b4aa3499c5328201f1"
   }
  }
 },
 "nbformat": 4,
 "nbformat_minor": 4
}
