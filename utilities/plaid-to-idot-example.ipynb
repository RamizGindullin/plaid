{
 "cells": [
  {
   "cell_type": "markdown",
   "metadata": {},
   "source": [
    "# PLAID Layout to iDOT\n",
    "\n",
    "We assume that your source plates file has at least the following headers (columns): \n",
    "\n",
    "plateID, type, well, Compound, CONCuM"
   ]
  },
  {
   "cell_type": "code",
   "execution_count": 1,
   "metadata": {},
   "outputs": [],
   "source": [
    "import file_conversion as fc"
   ]
  },
  {
   "cell_type": "code",
   "execution_count": 2,
   "metadata": {},
   "outputs": [],
   "source": [
    "# The name of your PLAID csv file\n",
    "plaid_filename = 'plaid_example.csv'\n",
    "\n",
    "# The name of your source plates csv file\n",
    "source_plate_filename = 'source_plate_example.csv'\n",
    "\n",
    "# The name for your output iDOT csv file\n",
    "idot_filename = 'my_idot_example.csv'\n",
    "\n",
    "# Full volume of you the wells or your PLAID (destination) plates.\n",
    "backfill = 150\n",
    "\n",
    "\n",
    "fc.plaid_to_idot(plaid_filename,source_plate_filename,backfill,idot_filename)"
   ]
  },
  {
   "cell_type": "markdown",
   "metadata": {},
   "source": [
    "# Advanced Use\n",
    "\n",
    "If you want to fill up the wells with something other than DMSO, you can specify it using the parameter 'backfill_compound'\n",
    "\n",
    "The name of the compound column of the source file can be specified using 'cmpdname_src_column'\n",
    "\n",
    "Below there is a list of all the variables need for the iDOT format with their default value."
   ]
  },
  {
   "cell_type": "code",
   "execution_count": 3,
   "metadata": {},
   "outputs": [
    {
     "ename": "FileNotFoundError",
     "evalue": "[Errno 2] No such file or directory: 'my_advanced_idot_example.csv'",
     "output_type": "error",
     "traceback": [
      "\u001b[0;31m---------------------------------------------------------------------------\u001b[0m",
      "\u001b[0;31mFileNotFoundError\u001b[0m                         Traceback (most recent call last)",
      "\u001b[0;32m<ipython-input-3-46c1c7de0020>\u001b[0m in \u001b[0;36m<module>\u001b[0;34m\u001b[0m\n\u001b[1;32m     27\u001b[0m \u001b[0msave_liquids\u001b[0m \u001b[0;34m=\u001b[0m \u001b[0;34m\"Ask\"\u001b[0m \u001b[0;31m# Checkpoint for Liquid Library handling. Possible options are Ask / Never\u001b[0m\u001b[0;34m\u001b[0m\u001b[0;34m\u001b[0m\u001b[0m\n\u001b[1;32m     28\u001b[0m \u001b[0;34m\u001b[0m\u001b[0m\n\u001b[0;32m---> 29\u001b[0;31m \u001b[0mfc\u001b[0m\u001b[0;34m.\u001b[0m\u001b[0mplaid_to_idot\u001b[0m\u001b[0;34m(\u001b[0m\u001b[0mplaid_filename\u001b[0m\u001b[0;34m,\u001b[0m\u001b[0msource_plate_filename\u001b[0m\u001b[0;34m,\u001b[0m\u001b[0mbackfill\u001b[0m\u001b[0;34m,\u001b[0m\u001b[0midot_filename\u001b[0m\u001b[0;34m,\u001b[0m\u001b[0mcmpdname_src_column\u001b[0m\u001b[0;34m=\u001b[0m\u001b[0mcmpdname_src_column\u001b[0m\u001b[0;34m,\u001b[0m \u001b[0mbackfill_compound\u001b[0m\u001b[0;34m=\u001b[0m\u001b[0mbackfill_compound\u001b[0m\u001b[0;34m,\u001b[0m \u001b[0mprotocol_name\u001b[0m\u001b[0;34m=\u001b[0m\u001b[0mprotocol_name\u001b[0m\u001b[0;34m,\u001b[0m \u001b[0msoftware\u001b[0m\u001b[0;34m=\u001b[0m\u001b[0msoftware\u001b[0m\u001b[0;34m,\u001b[0m \u001b[0muser_name\u001b[0m\u001b[0;34m=\u001b[0m\u001b[0muser_name\u001b[0m\u001b[0;34m,\u001b[0m \u001b[0msourceplate_type\u001b[0m\u001b[0;34m=\u001b[0m\u001b[0msourceplate_type\u001b[0m\u001b[0;34m,\u001b[0m \u001b[0msourceplate_name\u001b[0m\u001b[0;34m=\u001b[0m\u001b[0msourceplate_name\u001b[0m\u001b[0;34m,\u001b[0m \u001b[0mmax_volume\u001b[0m\u001b[0;34m=\u001b[0m\u001b[0mmax_volume\u001b[0m\u001b[0;34m,\u001b[0m \u001b[0mtarget_plate_type\u001b[0m\u001b[0;34m=\u001b[0m\u001b[0mtarget_plate_type\u001b[0m\u001b[0;34m,\u001b[0m \u001b[0mtargetplate_name\u001b[0m\u001b[0;34m=\u001b[0m\u001b[0mtargetplate_name\u001b[0m\u001b[0;34m,\u001b[0m \u001b[0mwaste_well\u001b[0m\u001b[0;34m=\u001b[0m\u001b[0mwaste_well\u001b[0m\u001b[0;34m,\u001b[0m \u001b[0mdispense_to_waste\u001b[0m\u001b[0;34m=\u001b[0m\u001b[0mdispense_to_waste\u001b[0m\u001b[0;34m,\u001b[0m \u001b[0mdispense_to_waste_cycles\u001b[0m\u001b[0;34m=\u001b[0m\u001b[0mdispense_to_waste_cycles\u001b[0m\u001b[0;34m,\u001b[0m \u001b[0mdispense_to_waste_volume\u001b[0m\u001b[0;34m=\u001b[0m\u001b[0mdispense_to_waste_volume\u001b[0m\u001b[0;34m,\u001b[0m \u001b[0muse_deionisation\u001b[0m\u001b[0;34m=\u001b[0m\u001b[0muse_deionisation\u001b[0m\u001b[0;34m,\u001b[0m \u001b[0moptimization_level\u001b[0m\u001b[0;34m=\u001b[0m\u001b[0moptimization_level\u001b[0m\u001b[0;34m,\u001b[0m \u001b[0mwaste_error_handling_level\u001b[0m\u001b[0;34m=\u001b[0m\u001b[0mwaste_error_handling_level\u001b[0m\u001b[0;34m,\u001b[0m \u001b[0msave_liquids\u001b[0m\u001b[0;34m=\u001b[0m\u001b[0msave_liquids\u001b[0m\u001b[0;34m)\u001b[0m\u001b[0;34m\u001b[0m\u001b[0;34m\u001b[0m\u001b[0m\n\u001b[0m",
      "\u001b[0;32m~/Documents/GitHub/multiplate-designer/utilities/file_conversion.py\u001b[0m in \u001b[0;36mplaid_to_idot\u001b[0;34m(plaid_filename, source_plate_filename, total_volume, idot_filename, cmpdname_src_column, backfill_compound, protocol_name, software, user_name, sourceplate_type, sourceplate_name, max_volume, target_plate_type, targetplate_name, waste_well, dispense_to_waste, dispense_to_waste_cycles, dispense_to_waste_volume, use_deionisation, optimization_level, waste_error_handling_level, save_liquids)\u001b[0m\n\u001b[1;32m     47\u001b[0m \u001b[0;34m\u001b[0m\u001b[0m\n\u001b[1;32m     48\u001b[0m     \u001b[0;31m# Open PLAID file\u001b[0m\u001b[0;34m\u001b[0m\u001b[0;34m\u001b[0m\u001b[0;34m\u001b[0m\u001b[0m\n\u001b[0;32m---> 49\u001b[0;31m     \u001b[0mplaid_df\u001b[0m \u001b[0;34m=\u001b[0m \u001b[0mpd\u001b[0m\u001b[0;34m.\u001b[0m\u001b[0mread_csv\u001b[0m\u001b[0;34m(\u001b[0m\u001b[0mplaid_filename\u001b[0m\u001b[0;34m)\u001b[0m\u001b[0;34m\u001b[0m\u001b[0;34m\u001b[0m\u001b[0m\n\u001b[0m\u001b[1;32m     50\u001b[0m \u001b[0;34m\u001b[0m\u001b[0m\n\u001b[1;32m     51\u001b[0m     \u001b[0;31m# Open source plate file\u001b[0m\u001b[0;34m\u001b[0m\u001b[0;34m\u001b[0m\u001b[0;34m\u001b[0m\u001b[0m\n",
      "\u001b[0;32m~/opt/anaconda3/lib/python3.8/site-packages/pandas/util/_decorators.py\u001b[0m in \u001b[0;36mwrapper\u001b[0;34m(*args, **kwargs)\u001b[0m\n\u001b[1;32m    309\u001b[0m                     \u001b[0mstacklevel\u001b[0m\u001b[0;34m=\u001b[0m\u001b[0mstacklevel\u001b[0m\u001b[0;34m,\u001b[0m\u001b[0;34m\u001b[0m\u001b[0;34m\u001b[0m\u001b[0m\n\u001b[1;32m    310\u001b[0m                 )\n\u001b[0;32m--> 311\u001b[0;31m             \u001b[0;32mreturn\u001b[0m \u001b[0mfunc\u001b[0m\u001b[0;34m(\u001b[0m\u001b[0;34m*\u001b[0m\u001b[0margs\u001b[0m\u001b[0;34m,\u001b[0m \u001b[0;34m**\u001b[0m\u001b[0mkwargs\u001b[0m\u001b[0;34m)\u001b[0m\u001b[0;34m\u001b[0m\u001b[0;34m\u001b[0m\u001b[0m\n\u001b[0m\u001b[1;32m    312\u001b[0m \u001b[0;34m\u001b[0m\u001b[0m\n\u001b[1;32m    313\u001b[0m         \u001b[0;32mreturn\u001b[0m \u001b[0mwrapper\u001b[0m\u001b[0;34m\u001b[0m\u001b[0;34m\u001b[0m\u001b[0m\n",
      "\u001b[0;32m~/opt/anaconda3/lib/python3.8/site-packages/pandas/io/parsers/readers.py\u001b[0m in \u001b[0;36mread_csv\u001b[0;34m(filepath_or_buffer, sep, delimiter, header, names, index_col, usecols, squeeze, prefix, mangle_dupe_cols, dtype, engine, converters, true_values, false_values, skipinitialspace, skiprows, skipfooter, nrows, na_values, keep_default_na, na_filter, verbose, skip_blank_lines, parse_dates, infer_datetime_format, keep_date_col, date_parser, dayfirst, cache_dates, iterator, chunksize, compression, thousands, decimal, lineterminator, quotechar, quoting, doublequote, escapechar, comment, encoding, encoding_errors, dialect, error_bad_lines, warn_bad_lines, on_bad_lines, delim_whitespace, low_memory, memory_map, float_precision, storage_options)\u001b[0m\n\u001b[1;32m    584\u001b[0m     \u001b[0mkwds\u001b[0m\u001b[0;34m.\u001b[0m\u001b[0mupdate\u001b[0m\u001b[0;34m(\u001b[0m\u001b[0mkwds_defaults\u001b[0m\u001b[0;34m)\u001b[0m\u001b[0;34m\u001b[0m\u001b[0;34m\u001b[0m\u001b[0m\n\u001b[1;32m    585\u001b[0m \u001b[0;34m\u001b[0m\u001b[0m\n\u001b[0;32m--> 586\u001b[0;31m     \u001b[0;32mreturn\u001b[0m \u001b[0m_read\u001b[0m\u001b[0;34m(\u001b[0m\u001b[0mfilepath_or_buffer\u001b[0m\u001b[0;34m,\u001b[0m \u001b[0mkwds\u001b[0m\u001b[0;34m)\u001b[0m\u001b[0;34m\u001b[0m\u001b[0;34m\u001b[0m\u001b[0m\n\u001b[0m\u001b[1;32m    587\u001b[0m \u001b[0;34m\u001b[0m\u001b[0m\n\u001b[1;32m    588\u001b[0m \u001b[0;34m\u001b[0m\u001b[0m\n",
      "\u001b[0;32m~/opt/anaconda3/lib/python3.8/site-packages/pandas/io/parsers/readers.py\u001b[0m in \u001b[0;36m_read\u001b[0;34m(filepath_or_buffer, kwds)\u001b[0m\n\u001b[1;32m    480\u001b[0m \u001b[0;34m\u001b[0m\u001b[0m\n\u001b[1;32m    481\u001b[0m     \u001b[0;31m# Create the parser.\u001b[0m\u001b[0;34m\u001b[0m\u001b[0;34m\u001b[0m\u001b[0;34m\u001b[0m\u001b[0m\n\u001b[0;32m--> 482\u001b[0;31m     \u001b[0mparser\u001b[0m \u001b[0;34m=\u001b[0m \u001b[0mTextFileReader\u001b[0m\u001b[0;34m(\u001b[0m\u001b[0mfilepath_or_buffer\u001b[0m\u001b[0;34m,\u001b[0m \u001b[0;34m**\u001b[0m\u001b[0mkwds\u001b[0m\u001b[0;34m)\u001b[0m\u001b[0;34m\u001b[0m\u001b[0;34m\u001b[0m\u001b[0m\n\u001b[0m\u001b[1;32m    483\u001b[0m \u001b[0;34m\u001b[0m\u001b[0m\n\u001b[1;32m    484\u001b[0m     \u001b[0;32mif\u001b[0m \u001b[0mchunksize\u001b[0m \u001b[0;32mor\u001b[0m \u001b[0miterator\u001b[0m\u001b[0;34m:\u001b[0m\u001b[0;34m\u001b[0m\u001b[0;34m\u001b[0m\u001b[0m\n",
      "\u001b[0;32m~/opt/anaconda3/lib/python3.8/site-packages/pandas/io/parsers/readers.py\u001b[0m in \u001b[0;36m__init__\u001b[0;34m(self, f, engine, **kwds)\u001b[0m\n\u001b[1;32m    809\u001b[0m             \u001b[0mself\u001b[0m\u001b[0;34m.\u001b[0m\u001b[0moptions\u001b[0m\u001b[0;34m[\u001b[0m\u001b[0;34m\"has_index_names\"\u001b[0m\u001b[0;34m]\u001b[0m \u001b[0;34m=\u001b[0m \u001b[0mkwds\u001b[0m\u001b[0;34m[\u001b[0m\u001b[0;34m\"has_index_names\"\u001b[0m\u001b[0;34m]\u001b[0m\u001b[0;34m\u001b[0m\u001b[0;34m\u001b[0m\u001b[0m\n\u001b[1;32m    810\u001b[0m \u001b[0;34m\u001b[0m\u001b[0m\n\u001b[0;32m--> 811\u001b[0;31m         \u001b[0mself\u001b[0m\u001b[0;34m.\u001b[0m\u001b[0m_engine\u001b[0m \u001b[0;34m=\u001b[0m \u001b[0mself\u001b[0m\u001b[0;34m.\u001b[0m\u001b[0m_make_engine\u001b[0m\u001b[0;34m(\u001b[0m\u001b[0mself\u001b[0m\u001b[0;34m.\u001b[0m\u001b[0mengine\u001b[0m\u001b[0;34m)\u001b[0m\u001b[0;34m\u001b[0m\u001b[0;34m\u001b[0m\u001b[0m\n\u001b[0m\u001b[1;32m    812\u001b[0m \u001b[0;34m\u001b[0m\u001b[0m\n\u001b[1;32m    813\u001b[0m     \u001b[0;32mdef\u001b[0m \u001b[0mclose\u001b[0m\u001b[0;34m(\u001b[0m\u001b[0mself\u001b[0m\u001b[0;34m)\u001b[0m\u001b[0;34m:\u001b[0m\u001b[0;34m\u001b[0m\u001b[0;34m\u001b[0m\u001b[0m\n",
      "\u001b[0;32m~/opt/anaconda3/lib/python3.8/site-packages/pandas/io/parsers/readers.py\u001b[0m in \u001b[0;36m_make_engine\u001b[0;34m(self, engine)\u001b[0m\n\u001b[1;32m   1038\u001b[0m             )\n\u001b[1;32m   1039\u001b[0m         \u001b[0;31m# error: Too many arguments for \"ParserBase\"\u001b[0m\u001b[0;34m\u001b[0m\u001b[0;34m\u001b[0m\u001b[0;34m\u001b[0m\u001b[0m\n\u001b[0;32m-> 1040\u001b[0;31m         \u001b[0;32mreturn\u001b[0m \u001b[0mmapping\u001b[0m\u001b[0;34m[\u001b[0m\u001b[0mengine\u001b[0m\u001b[0;34m]\u001b[0m\u001b[0;34m(\u001b[0m\u001b[0mself\u001b[0m\u001b[0;34m.\u001b[0m\u001b[0mf\u001b[0m\u001b[0;34m,\u001b[0m \u001b[0;34m**\u001b[0m\u001b[0mself\u001b[0m\u001b[0;34m.\u001b[0m\u001b[0moptions\u001b[0m\u001b[0;34m)\u001b[0m  \u001b[0;31m# type: ignore[call-arg]\u001b[0m\u001b[0;34m\u001b[0m\u001b[0;34m\u001b[0m\u001b[0m\n\u001b[0m\u001b[1;32m   1041\u001b[0m \u001b[0;34m\u001b[0m\u001b[0m\n\u001b[1;32m   1042\u001b[0m     \u001b[0;32mdef\u001b[0m \u001b[0m_failover_to_python\u001b[0m\u001b[0;34m(\u001b[0m\u001b[0mself\u001b[0m\u001b[0;34m)\u001b[0m\u001b[0;34m:\u001b[0m\u001b[0;34m\u001b[0m\u001b[0;34m\u001b[0m\u001b[0m\n",
      "\u001b[0;32m~/opt/anaconda3/lib/python3.8/site-packages/pandas/io/parsers/c_parser_wrapper.py\u001b[0m in \u001b[0;36m__init__\u001b[0;34m(self, src, **kwds)\u001b[0m\n\u001b[1;32m     49\u001b[0m \u001b[0;34m\u001b[0m\u001b[0m\n\u001b[1;32m     50\u001b[0m         \u001b[0;31m# open handles\u001b[0m\u001b[0;34m\u001b[0m\u001b[0;34m\u001b[0m\u001b[0;34m\u001b[0m\u001b[0m\n\u001b[0;32m---> 51\u001b[0;31m         \u001b[0mself\u001b[0m\u001b[0;34m.\u001b[0m\u001b[0m_open_handles\u001b[0m\u001b[0;34m(\u001b[0m\u001b[0msrc\u001b[0m\u001b[0;34m,\u001b[0m \u001b[0mkwds\u001b[0m\u001b[0;34m)\u001b[0m\u001b[0;34m\u001b[0m\u001b[0;34m\u001b[0m\u001b[0m\n\u001b[0m\u001b[1;32m     52\u001b[0m         \u001b[0;32massert\u001b[0m \u001b[0mself\u001b[0m\u001b[0;34m.\u001b[0m\u001b[0mhandles\u001b[0m \u001b[0;32mis\u001b[0m \u001b[0;32mnot\u001b[0m \u001b[0;32mNone\u001b[0m\u001b[0;34m\u001b[0m\u001b[0;34m\u001b[0m\u001b[0m\n\u001b[1;32m     53\u001b[0m \u001b[0;34m\u001b[0m\u001b[0m\n",
      "\u001b[0;32m~/opt/anaconda3/lib/python3.8/site-packages/pandas/io/parsers/base_parser.py\u001b[0m in \u001b[0;36m_open_handles\u001b[0;34m(self, src, kwds)\u001b[0m\n\u001b[1;32m    220\u001b[0m         \u001b[0mLet\u001b[0m \u001b[0mthe\u001b[0m \u001b[0mreaders\u001b[0m \u001b[0mopen\u001b[0m \u001b[0mIOHandles\u001b[0m \u001b[0mafter\u001b[0m \u001b[0mthey\u001b[0m \u001b[0mare\u001b[0m \u001b[0mdone\u001b[0m \u001b[0;32mwith\u001b[0m \u001b[0mtheir\u001b[0m \u001b[0mpotential\u001b[0m \u001b[0mraises\u001b[0m\u001b[0;34m.\u001b[0m\u001b[0;34m\u001b[0m\u001b[0;34m\u001b[0m\u001b[0m\n\u001b[1;32m    221\u001b[0m         \"\"\"\n\u001b[0;32m--> 222\u001b[0;31m         self.handles = get_handle(\n\u001b[0m\u001b[1;32m    223\u001b[0m             \u001b[0msrc\u001b[0m\u001b[0;34m,\u001b[0m\u001b[0;34m\u001b[0m\u001b[0;34m\u001b[0m\u001b[0m\n\u001b[1;32m    224\u001b[0m             \u001b[0;34m\"r\"\u001b[0m\u001b[0;34m,\u001b[0m\u001b[0;34m\u001b[0m\u001b[0;34m\u001b[0m\u001b[0m\n",
      "\u001b[0;32m~/opt/anaconda3/lib/python3.8/site-packages/pandas/io/common.py\u001b[0m in \u001b[0;36mget_handle\u001b[0;34m(path_or_buf, mode, encoding, compression, memory_map, is_text, errors, storage_options)\u001b[0m\n\u001b[1;32m    700\u001b[0m         \u001b[0;32mif\u001b[0m \u001b[0mioargs\u001b[0m\u001b[0;34m.\u001b[0m\u001b[0mencoding\u001b[0m \u001b[0;32mand\u001b[0m \u001b[0;34m\"b\"\u001b[0m \u001b[0;32mnot\u001b[0m \u001b[0;32min\u001b[0m \u001b[0mioargs\u001b[0m\u001b[0;34m.\u001b[0m\u001b[0mmode\u001b[0m\u001b[0;34m:\u001b[0m\u001b[0;34m\u001b[0m\u001b[0;34m\u001b[0m\u001b[0m\n\u001b[1;32m    701\u001b[0m             \u001b[0;31m# Encoding\u001b[0m\u001b[0;34m\u001b[0m\u001b[0;34m\u001b[0m\u001b[0;34m\u001b[0m\u001b[0m\n\u001b[0;32m--> 702\u001b[0;31m             handle = open(\n\u001b[0m\u001b[1;32m    703\u001b[0m                 \u001b[0mhandle\u001b[0m\u001b[0;34m,\u001b[0m\u001b[0;34m\u001b[0m\u001b[0;34m\u001b[0m\u001b[0m\n\u001b[1;32m    704\u001b[0m                 \u001b[0mioargs\u001b[0m\u001b[0;34m.\u001b[0m\u001b[0mmode\u001b[0m\u001b[0;34m,\u001b[0m\u001b[0;34m\u001b[0m\u001b[0;34m\u001b[0m\u001b[0m\n",
      "\u001b[0;31mFileNotFoundError\u001b[0m: [Errno 2] No such file or directory: 'my_advanced_idot_example.csv'"
     ]
    }
   ],
   "source": [
    "idot_filename = 'my_advanced_idot_example.csv'\n",
    "\n",
    "cmpdname_src_column='Compound'\n",
    "backfill_compound='DMSO'\n",
    "\n",
    "## iDOT header information\n",
    "#Line 1\n",
    "protocol_name = \"My_First_Experiment\" # Name of the protocol\n",
    "software = \"1.7.2021.1019\" # I-DOT Assay Studio software version\n",
    "user_name = \"pharmb_io\" # User name/ID\n",
    "\n",
    "#Line 2\n",
    "sourceplate_type = \"S.100 Plate\" # Other options are \"S.60 Plate\" and \"S.200 Plate\"\n",
    "sourceplate_name = \"source_name\" # Name of source plate\n",
    "max_volume = 8.0E-5 # Source plate max volume (80000nL = 80uL= 8.0E-5 L)\n",
    "target_plate_type = \"MWP 384\" # Other options are \"MWP 96\" and \"MWP 1536\" \n",
    "targetplate_name = \"target_name\"\n",
    "waste_well = \"Waste Tube\" # Position of the waste well on the target carrier\n",
    "\n",
    "#Line 3\n",
    "dispense_to_waste = True # Enable/disable priming before dispensing (=True/False) \n",
    "dispense_to_waste_cycles = 3 # Number of priming cycles for each source well (=1/2/3)\n",
    "dispense_to_waste_volume = 1e-7 # Dispensing volume for each priming cycle (=5e-8/.../1e-6) \n",
    "use_deionisation = True\n",
    "optimization_level = \"ReorderAndParallel\" # Used protocol optimization process to reduce total dispensing time. Possible values are NoOptimization / Reorder / ReorderAndParalell\n",
    "waste_error_handling_level = \"Ask\" # Checkpoint for the dispensing run if no droplets are detected during priming. Possible values are Ask / Abort / Continue \n",
    "save_liquids = \"Ask\" # Checkpoint for Liquid Library handling. Possible options are Ask / Never\n",
    "\n",
    "fc.plaid_to_idot(plaid_filename,source_plate_filename,backfill,idot_filename,cmpdname_src_column=cmpdname_src_column, backfill_compound=backfill_compound, protocol_name=protocol_name, software=software, user_name=user_name, sourceplate_type=sourceplate_type, sourceplate_name=sourceplate_name, max_volume=max_volume, target_plate_type=target_plate_type, targetplate_name=targetplate_name, waste_well=waste_well, dispense_to_waste=dispense_to_waste, dispense_to_waste_cycles=dispense_to_waste_cycles, dispense_to_waste_volume=dispense_to_waste_volume, use_deionisation=use_deionisation, optimization_level=optimization_level, waste_error_handling_level=waste_error_handling_level, save_liquids=save_liquids)\n"
   ]
  },
  {
   "cell_type": "markdown",
   "metadata": {},
   "source": [
    "## Acknowledgments\n",
    "\n",
    "We would like to thank Polina Georgiev, Malin Jarvius, and Jonne Rietdijk for their input and feedback."
   ]
  }
 ],
 "metadata": {
  "kernelspec": {
   "display_name": "Python 3",
   "language": "python",
   "name": "python3"
  },
  "language_info": {
   "codemirror_mode": {
    "name": "ipython",
    "version": 3
   },
   "file_extension": ".py",
   "mimetype": "text/x-python",
   "name": "python",
   "nbconvert_exporter": "python",
   "pygments_lexer": "ipython3",
   "version": "3.8.5"
  }
 },
 "nbformat": 4,
 "nbformat_minor": 4
}
